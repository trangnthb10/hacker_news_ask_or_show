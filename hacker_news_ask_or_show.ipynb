{
 "cells": [
  {
   "cell_type": "markdown",
   "metadata": {},
   "source": [
    "# Is Ask HN or Show HN getting more attention?"
   ]
  },
  {
   "cell_type": "markdown",
   "metadata": {},
   "source": [
    "In this project, we will explore data from Hacker News (HN) site. HK is a popular technology sites for users to ask/answer questions or show their finding of interests. The submissions from users are called posts which  can be categorized in three types:\n",
    "- Ask HN: users post questions to Hacker News community\n",
    "- Show HN: users post their projects, findings, etc.\n",
    "- Other posts\n",
    "\n",
    "Users can upvote (like) or downvote (dislike) a post.<br>\n",
    "A post can have multiple comments.<br>\n",
    "We will just focus on Ask HN or Post HN to find out which one is more likely to get attention from users. To do that, we will find the answers for:\n",
    "- Which type of posts receive more comments on average?\n",
    "- Do posts created at a certain time receive more comments on average?\n",
    "\n",
    "**Results:**\n",
    "- On average, ask posts get more comments than show posts.\n",
    "- Interestingly, posts are likely to get more comments when posted at 3PM. "
   ]
  },
  {
   "cell_type": "code",
   "execution_count": 1,
   "metadata": {
    "scrolled": true
   },
   "outputs": [
    {
     "name": "stdout",
     "output_type": "stream",
     "text": [
      "Number of rows:  20100\n"
     ]
    },
    {
     "data": {
      "text/html": [
       "<div>\n",
       "<style scoped>\n",
       "    .dataframe tbody tr th:only-of-type {\n",
       "        vertical-align: middle;\n",
       "    }\n",
       "\n",
       "    .dataframe tbody tr th {\n",
       "        vertical-align: top;\n",
       "    }\n",
       "\n",
       "    .dataframe thead th {\n",
       "        text-align: right;\n",
       "    }\n",
       "</style>\n",
       "<table border=\"1\" class=\"dataframe\">\n",
       "  <thead>\n",
       "    <tr style=\"text-align: right;\">\n",
       "      <th></th>\n",
       "      <th>id</th>\n",
       "      <th>title</th>\n",
       "      <th>url</th>\n",
       "      <th>num_points</th>\n",
       "      <th>num_comments</th>\n",
       "      <th>author</th>\n",
       "      <th>created_at</th>\n",
       "    </tr>\n",
       "  </thead>\n",
       "  <tbody>\n",
       "    <tr>\n",
       "      <th>0</th>\n",
       "      <td>12224879</td>\n",
       "      <td>Interactive Dynamic Video</td>\n",
       "      <td>http://www.interactivedynamicvideo.com/</td>\n",
       "      <td>386</td>\n",
       "      <td>52</td>\n",
       "      <td>ne0phyte</td>\n",
       "      <td>8/4/2016 11:52</td>\n",
       "    </tr>\n",
       "    <tr>\n",
       "      <th>1</th>\n",
       "      <td>10975351</td>\n",
       "      <td>How to Use Open Source and Shut the Fuck Up at...</td>\n",
       "      <td>http://hueniverse.com/2016/01/26/how-to-use-op...</td>\n",
       "      <td>39</td>\n",
       "      <td>10</td>\n",
       "      <td>josep2</td>\n",
       "      <td>1/26/2016 19:30</td>\n",
       "    </tr>\n",
       "    <tr>\n",
       "      <th>2</th>\n",
       "      <td>11964716</td>\n",
       "      <td>Florida DJs May Face Felony for April Fools' W...</td>\n",
       "      <td>http://www.thewire.com/entertainment/2013/04/f...</td>\n",
       "      <td>2</td>\n",
       "      <td>1</td>\n",
       "      <td>vezycash</td>\n",
       "      <td>6/23/2016 22:20</td>\n",
       "    </tr>\n",
       "    <tr>\n",
       "      <th>3</th>\n",
       "      <td>11919867</td>\n",
       "      <td>Technology ventures: From Idea to Enterprise</td>\n",
       "      <td>https://www.amazon.com/Technology-Ventures-Ent...</td>\n",
       "      <td>3</td>\n",
       "      <td>1</td>\n",
       "      <td>hswarna</td>\n",
       "      <td>6/17/2016 0:01</td>\n",
       "    </tr>\n",
       "    <tr>\n",
       "      <th>4</th>\n",
       "      <td>10301696</td>\n",
       "      <td>Note by Note: The Making of Steinway L1037 (2007)</td>\n",
       "      <td>http://www.nytimes.com/2007/11/07/movies/07ste...</td>\n",
       "      <td>8</td>\n",
       "      <td>2</td>\n",
       "      <td>walterbell</td>\n",
       "      <td>9/30/2015 4:12</td>\n",
       "    </tr>\n",
       "  </tbody>\n",
       "</table>\n",
       "</div>"
      ],
      "text/plain": [
       "         id                                              title  \\\n",
       "0  12224879                          Interactive Dynamic Video   \n",
       "1  10975351  How to Use Open Source and Shut the Fuck Up at...   \n",
       "2  11964716  Florida DJs May Face Felony for April Fools' W...   \n",
       "3  11919867       Technology ventures: From Idea to Enterprise   \n",
       "4  10301696  Note by Note: The Making of Steinway L1037 (2007)   \n",
       "\n",
       "                                                 url  num_points  \\\n",
       "0            http://www.interactivedynamicvideo.com/         386   \n",
       "1  http://hueniverse.com/2016/01/26/how-to-use-op...          39   \n",
       "2  http://www.thewire.com/entertainment/2013/04/f...           2   \n",
       "3  https://www.amazon.com/Technology-Ventures-Ent...           3   \n",
       "4  http://www.nytimes.com/2007/11/07/movies/07ste...           8   \n",
       "\n",
       "   num_comments      author       created_at  \n",
       "0            52    ne0phyte   8/4/2016 11:52  \n",
       "1            10      josep2  1/26/2016 19:30  \n",
       "2             1    vezycash  6/23/2016 22:20  \n",
       "3             1     hswarna   6/17/2016 0:01  \n",
       "4             2  walterbell   9/30/2015 4:12  "
      ]
     },
     "execution_count": 1,
     "metadata": {},
     "output_type": "execute_result"
    }
   ],
   "source": [
    "# Read in file hacker_news.csv\n",
    "import pandas as pd # using panda lib\n",
    "hn = pd.read_csv('hacker_news.csv') # read dataset as DataFrame\n",
    "print('Number of rows: ', hn.shape[0])\n",
    "hn.head() # display first 5 rows"
   ]
  },
  {
   "cell_type": "markdown",
   "metadata": {},
   "source": [
    "**title** column shows title of the post. Posts start with:\n",
    "- ask hn: is considered a question\n",
    "- show hn: is to share information"
   ]
  },
  {
   "cell_type": "markdown",
   "metadata": {},
   "source": [
    "## Find average number of comments"
   ]
  },
  {
   "cell_type": "code",
   "execution_count": 2,
   "metadata": {},
   "outputs": [],
   "source": [
    "# isolate Ask Posts\n",
    "ask = hn[hn['title']\n",
    "            .str.lower() # convert to lowercase\n",
    "            .str.startswith('ask hn')].copy() # filter posts start with ask hn"
   ]
  },
  {
   "cell_type": "code",
   "execution_count": 3,
   "metadata": {},
   "outputs": [
    {
     "data": {
      "text/plain": [
       "14.038417431192661"
      ]
     },
     "execution_count": 3,
     "metadata": {},
     "output_type": "execute_result"
    }
   ],
   "source": [
    "# find average number of comments in ask posts\n",
    "ask['num_comments'].mean()"
   ]
  },
  {
   "cell_type": "code",
   "execution_count": 4,
   "metadata": {},
   "outputs": [],
   "source": [
    "# isolate Show Posts\n",
    "show = hn[hn['title']\n",
    "            .str.lower() # convert to lowercase\n",
    "            .str.startswith('show hn')] # filter posts start with show hn"
   ]
  },
  {
   "cell_type": "code",
   "execution_count": 5,
   "metadata": {},
   "outputs": [
    {
     "data": {
      "text/plain": [
       "10.31669535283993"
      ]
     },
     "execution_count": 5,
     "metadata": {},
     "output_type": "execute_result"
    }
   ],
   "source": [
    "show['num_comments'].mean()"
   ]
  },
  {
   "cell_type": "markdown",
   "metadata": {},
   "source": [
    "On average, Ask posts are likely to receive comments. We will check if posting a question on a specific timeframe will increase our chance to get more comments."
   ]
  },
  {
   "cell_type": "markdown",
   "metadata": {},
   "source": [
    "## Find the number of Ask Posts and Comments by Hour Created\n",
    "Next, we will need to work with created_at column to find out at which time in the day, a new question (ask post) will get more comments."
   ]
  },
  {
   "cell_type": "code",
   "execution_count": 6,
   "metadata": {},
   "outputs": [],
   "source": [
    "import datetime as dt\n",
    "# convert created_at col to datetime format\n",
    "ask_datetime = pd.to_datetime(ask['created_at'])"
   ]
  },
  {
   "cell_type": "code",
   "execution_count": 7,
   "metadata": {},
   "outputs": [],
   "source": [
    "# split date to new column: created_date\n",
    "ask['created_date'] = ask_datetime.dt.strftime('%Y-%m-%d')"
   ]
  },
  {
   "cell_type": "code",
   "execution_count": 8,
   "metadata": {},
   "outputs": [],
   "source": [
    "# split time to new column: created_time\n",
    "ask['created_time'] = ask_datetime.dt.strftime('%H:%M')"
   ]
  },
  {
   "cell_type": "code",
   "execution_count": 9,
   "metadata": {},
   "outputs": [],
   "source": [
    "# split hour to new column: created_hour\n",
    "ask['created_hour'] = ask_datetime.dt.strftime('%H')"
   ]
  },
  {
   "cell_type": "code",
   "execution_count": 10,
   "metadata": {},
   "outputs": [
    {
     "data": {
      "text/html": [
       "<div>\n",
       "<style scoped>\n",
       "    .dataframe tbody tr th:only-of-type {\n",
       "        vertical-align: middle;\n",
       "    }\n",
       "\n",
       "    .dataframe tbody tr th {\n",
       "        vertical-align: top;\n",
       "    }\n",
       "\n",
       "    .dataframe thead th {\n",
       "        text-align: right;\n",
       "    }\n",
       "</style>\n",
       "<table border=\"1\" class=\"dataframe\">\n",
       "  <thead>\n",
       "    <tr style=\"text-align: right;\">\n",
       "      <th></th>\n",
       "      <th>id</th>\n",
       "      <th>title</th>\n",
       "      <th>url</th>\n",
       "      <th>num_points</th>\n",
       "      <th>num_comments</th>\n",
       "      <th>author</th>\n",
       "      <th>created_at</th>\n",
       "      <th>created_date</th>\n",
       "      <th>created_time</th>\n",
       "      <th>created_hour</th>\n",
       "    </tr>\n",
       "  </thead>\n",
       "  <tbody>\n",
       "    <tr>\n",
       "      <th>7</th>\n",
       "      <td>12296411</td>\n",
       "      <td>Ask HN: How to improve my personal website?</td>\n",
       "      <td>NaN</td>\n",
       "      <td>2</td>\n",
       "      <td>6</td>\n",
       "      <td>ahmedbaracat</td>\n",
       "      <td>8/16/2016 9:55</td>\n",
       "      <td>2016-08-16</td>\n",
       "      <td>09:55</td>\n",
       "      <td>09</td>\n",
       "    </tr>\n",
       "    <tr>\n",
       "      <th>17</th>\n",
       "      <td>10610020</td>\n",
       "      <td>Ask HN: Am I the only one outraged by Twitter ...</td>\n",
       "      <td>NaN</td>\n",
       "      <td>28</td>\n",
       "      <td>29</td>\n",
       "      <td>tkfx</td>\n",
       "      <td>11/22/2015 13:43</td>\n",
       "      <td>2015-11-22</td>\n",
       "      <td>13:43</td>\n",
       "      <td>13</td>\n",
       "    </tr>\n",
       "    <tr>\n",
       "      <th>22</th>\n",
       "      <td>11610310</td>\n",
       "      <td>Ask HN: Aby recent changes to CSS that broke m...</td>\n",
       "      <td>NaN</td>\n",
       "      <td>1</td>\n",
       "      <td>1</td>\n",
       "      <td>polskibus</td>\n",
       "      <td>5/2/2016 10:14</td>\n",
       "      <td>2016-05-02</td>\n",
       "      <td>10:14</td>\n",
       "      <td>10</td>\n",
       "    </tr>\n",
       "  </tbody>\n",
       "</table>\n",
       "</div>"
      ],
      "text/plain": [
       "          id                                              title  url  \\\n",
       "7   12296411        Ask HN: How to improve my personal website?  NaN   \n",
       "17  10610020  Ask HN: Am I the only one outraged by Twitter ...  NaN   \n",
       "22  11610310  Ask HN: Aby recent changes to CSS that broke m...  NaN   \n",
       "\n",
       "    num_points  num_comments        author        created_at created_date  \\\n",
       "7            2             6  ahmedbaracat    8/16/2016 9:55   2016-08-16   \n",
       "17          28            29          tkfx  11/22/2015 13:43   2015-11-22   \n",
       "22           1             1     polskibus    5/2/2016 10:14   2016-05-02   \n",
       "\n",
       "   created_time created_hour  \n",
       "7         09:55           09  \n",
       "17        13:43           13  \n",
       "22        10:14           10  "
      ]
     },
     "execution_count": 10,
     "metadata": {},
     "output_type": "execute_result"
    }
   ],
   "source": [
    "ask.head(3)"
   ]
  },
  {
   "cell_type": "code",
   "execution_count": 11,
   "metadata": {},
   "outputs": [],
   "source": [
    "# create function to filter posts by hour\n",
    "def posts_by_hour(dataframe):\n",
    "    # group ask posts by hour\n",
    "    by_hour = dataframe.groupby('created_hour')['num_comments'].agg(\n",
    "                                    ['sum','count','mean'])\n",
    "    by_hour.rename(columns = \n",
    "                       {'sum':'total_comments','count':'total_posts',\n",
    "                           'mean':'average_comments'},\n",
    "                       inplace = True)\n",
    "    by_hour.reset_index(inplace = True)\n",
    "    return by_hour"
   ]
  },
  {
   "cell_type": "code",
   "execution_count": 12,
   "metadata": {
    "scrolled": true
   },
   "outputs": [
    {
     "data": {
      "text/html": [
       "<div>\n",
       "<style scoped>\n",
       "    .dataframe tbody tr th:only-of-type {\n",
       "        vertical-align: middle;\n",
       "    }\n",
       "\n",
       "    .dataframe tbody tr th {\n",
       "        vertical-align: top;\n",
       "    }\n",
       "\n",
       "    .dataframe thead th {\n",
       "        text-align: right;\n",
       "    }\n",
       "</style>\n",
       "<table border=\"1\" class=\"dataframe\">\n",
       "  <thead>\n",
       "    <tr style=\"text-align: right;\">\n",
       "      <th></th>\n",
       "      <th>created_hour</th>\n",
       "      <th>total_comments</th>\n",
       "      <th>total_posts</th>\n",
       "      <th>average_comments</th>\n",
       "    </tr>\n",
       "  </thead>\n",
       "  <tbody>\n",
       "    <tr>\n",
       "      <th>0</th>\n",
       "      <td>00</td>\n",
       "      <td>447</td>\n",
       "      <td>55</td>\n",
       "      <td>8.127273</td>\n",
       "    </tr>\n",
       "    <tr>\n",
       "      <th>1</th>\n",
       "      <td>01</td>\n",
       "      <td>683</td>\n",
       "      <td>60</td>\n",
       "      <td>11.383333</td>\n",
       "    </tr>\n",
       "    <tr>\n",
       "      <th>2</th>\n",
       "      <td>02</td>\n",
       "      <td>1381</td>\n",
       "      <td>58</td>\n",
       "      <td>23.810345</td>\n",
       "    </tr>\n",
       "    <tr>\n",
       "      <th>3</th>\n",
       "      <td>03</td>\n",
       "      <td>421</td>\n",
       "      <td>54</td>\n",
       "      <td>7.796296</td>\n",
       "    </tr>\n",
       "    <tr>\n",
       "      <th>4</th>\n",
       "      <td>04</td>\n",
       "      <td>337</td>\n",
       "      <td>47</td>\n",
       "      <td>7.170213</td>\n",
       "    </tr>\n",
       "    <tr>\n",
       "      <th>5</th>\n",
       "      <td>05</td>\n",
       "      <td>464</td>\n",
       "      <td>46</td>\n",
       "      <td>10.086957</td>\n",
       "    </tr>\n",
       "    <tr>\n",
       "      <th>6</th>\n",
       "      <td>06</td>\n",
       "      <td>397</td>\n",
       "      <td>44</td>\n",
       "      <td>9.022727</td>\n",
       "    </tr>\n",
       "    <tr>\n",
       "      <th>7</th>\n",
       "      <td>07</td>\n",
       "      <td>267</td>\n",
       "      <td>34</td>\n",
       "      <td>7.852941</td>\n",
       "    </tr>\n",
       "    <tr>\n",
       "      <th>8</th>\n",
       "      <td>08</td>\n",
       "      <td>492</td>\n",
       "      <td>48</td>\n",
       "      <td>10.250000</td>\n",
       "    </tr>\n",
       "    <tr>\n",
       "      <th>9</th>\n",
       "      <td>09</td>\n",
       "      <td>251</td>\n",
       "      <td>45</td>\n",
       "      <td>5.577778</td>\n",
       "    </tr>\n",
       "    <tr>\n",
       "      <th>10</th>\n",
       "      <td>10</td>\n",
       "      <td>793</td>\n",
       "      <td>59</td>\n",
       "      <td>13.440678</td>\n",
       "    </tr>\n",
       "    <tr>\n",
       "      <th>11</th>\n",
       "      <td>11</td>\n",
       "      <td>641</td>\n",
       "      <td>58</td>\n",
       "      <td>11.051724</td>\n",
       "    </tr>\n",
       "    <tr>\n",
       "      <th>12</th>\n",
       "      <td>12</td>\n",
       "      <td>687</td>\n",
       "      <td>73</td>\n",
       "      <td>9.410959</td>\n",
       "    </tr>\n",
       "    <tr>\n",
       "      <th>13</th>\n",
       "      <td>13</td>\n",
       "      <td>1253</td>\n",
       "      <td>85</td>\n",
       "      <td>14.741176</td>\n",
       "    </tr>\n",
       "    <tr>\n",
       "      <th>14</th>\n",
       "      <td>14</td>\n",
       "      <td>1416</td>\n",
       "      <td>107</td>\n",
       "      <td>13.233645</td>\n",
       "    </tr>\n",
       "    <tr>\n",
       "      <th>15</th>\n",
       "      <td>15</td>\n",
       "      <td>4477</td>\n",
       "      <td>116</td>\n",
       "      <td>38.594828</td>\n",
       "    </tr>\n",
       "    <tr>\n",
       "      <th>16</th>\n",
       "      <td>16</td>\n",
       "      <td>1814</td>\n",
       "      <td>108</td>\n",
       "      <td>16.796296</td>\n",
       "    </tr>\n",
       "    <tr>\n",
       "      <th>17</th>\n",
       "      <td>17</td>\n",
       "      <td>1146</td>\n",
       "      <td>100</td>\n",
       "      <td>11.460000</td>\n",
       "    </tr>\n",
       "    <tr>\n",
       "      <th>18</th>\n",
       "      <td>18</td>\n",
       "      <td>1439</td>\n",
       "      <td>109</td>\n",
       "      <td>13.201835</td>\n",
       "    </tr>\n",
       "    <tr>\n",
       "      <th>19</th>\n",
       "      <td>19</td>\n",
       "      <td>1188</td>\n",
       "      <td>110</td>\n",
       "      <td>10.800000</td>\n",
       "    </tr>\n",
       "    <tr>\n",
       "      <th>20</th>\n",
       "      <td>20</td>\n",
       "      <td>1722</td>\n",
       "      <td>80</td>\n",
       "      <td>21.525000</td>\n",
       "    </tr>\n",
       "    <tr>\n",
       "      <th>21</th>\n",
       "      <td>21</td>\n",
       "      <td>1745</td>\n",
       "      <td>109</td>\n",
       "      <td>16.009174</td>\n",
       "    </tr>\n",
       "    <tr>\n",
       "      <th>22</th>\n",
       "      <td>22</td>\n",
       "      <td>479</td>\n",
       "      <td>71</td>\n",
       "      <td>6.746479</td>\n",
       "    </tr>\n",
       "    <tr>\n",
       "      <th>23</th>\n",
       "      <td>23</td>\n",
       "      <td>543</td>\n",
       "      <td>68</td>\n",
       "      <td>7.985294</td>\n",
       "    </tr>\n",
       "  </tbody>\n",
       "</table>\n",
       "</div>"
      ],
      "text/plain": [
       "   created_hour  total_comments  total_posts  average_comments\n",
       "0            00             447           55          8.127273\n",
       "1            01             683           60         11.383333\n",
       "2            02            1381           58         23.810345\n",
       "3            03             421           54          7.796296\n",
       "4            04             337           47          7.170213\n",
       "5            05             464           46         10.086957\n",
       "6            06             397           44          9.022727\n",
       "7            07             267           34          7.852941\n",
       "8            08             492           48         10.250000\n",
       "9            09             251           45          5.577778\n",
       "10           10             793           59         13.440678\n",
       "11           11             641           58         11.051724\n",
       "12           12             687           73          9.410959\n",
       "13           13            1253           85         14.741176\n",
       "14           14            1416          107         13.233645\n",
       "15           15            4477          116         38.594828\n",
       "16           16            1814          108         16.796296\n",
       "17           17            1146          100         11.460000\n",
       "18           18            1439          109         13.201835\n",
       "19           19            1188          110         10.800000\n",
       "20           20            1722           80         21.525000\n",
       "21           21            1745          109         16.009174\n",
       "22           22             479           71          6.746479\n",
       "23           23             543           68          7.985294"
      ]
     },
     "execution_count": 12,
     "metadata": {},
     "output_type": "execute_result"
    }
   ],
   "source": [
    "# rename columns\n",
    "ask_by_hour = posts_by_hour(ask)\n",
    "ask_by_hour"
   ]
  },
  {
   "cell_type": "markdown",
   "metadata": {},
   "source": [
    "### Visualize the distributions of posts and comments by hours"
   ]
  },
  {
   "cell_type": "code",
   "execution_count": 13,
   "metadata": {
    "scrolled": false
   },
   "outputs": [
    {
     "data": {
      "image/png": "[encoded data removed]",
      "text/plain": [
       "<Figure size 720x360 with 1 Axes>"
      ]
     },
     "metadata": {
      "needs_background": "light"
     },
     "output_type": "display_data"
    },
    {
     "data": {
      "image/png": "[encoded data removed]",
      "text/plain": [
       "<Figure size 720x360 with 1 Axes>"
      ]
     },
     "metadata": {
      "needs_background": "light"
     },
     "output_type": "display_data"
    }
   ],
   "source": [
    "import matplotlib.pyplot as plt\n",
    "ax1 = ask_by_hour.plot.bar(\n",
    "    x = 'created_hour',\n",
    "    y = 'total_comments', legend = False, figsize = (10,5),\n",
    "    title = 'Total Comments in Ask Posts')\n",
    "ax2 = ask_by_hour.plot.bar(\n",
    "    x = 'created_hour',\n",
    "    y = 'total_posts', color='gray', legend = False, figsize = (10,5),\n",
    "    title = 'Total Ask Posts')\n",
    "ax3 = ask_by_hour.plot.line(x='created_hour', y = 'average_comments',\n",
    "                            ax = ax2, color = 'red')\n",
    "ax2.set_ylim(0,130)\n",
    "plt.show()"
   ]
  },
  {
   "cell_type": "markdown",
   "metadata": {},
   "source": [
    "The charts show the number of posts and comments are peak at 15 hour. The average number of comments is also highest at 15 hour. It means a post created at 15 hour (3 PM) is likely to get more comments. <br>\n",
    "\n",
    "However, is it true that any ask post created within that hour will get more comments?<br>\n",
    "\n",
    "We need to rely on the num_points to clear this curiosity. num_points is calculated by taking the total number of upvotes minus the total number of downvots. A post with higher num_points possibly means an interesting question."
   ]
  },
  {
   "cell_type": "code",
   "execution_count": 14,
   "metadata": {},
   "outputs": [],
   "source": [
    "# isolate ask posts created at 15 hour\n",
    "ask_15 = ask[ask['created_hour']=='15'][['num_points','num_comments']]"
   ]
  },
  {
   "cell_type": "code",
   "execution_count": 15,
   "metadata": {},
   "outputs": [
    {
     "data": {
      "text/plain": [
       "0.9284281436151685"
      ]
     },
     "execution_count": 15,
     "metadata": {},
     "output_type": "execute_result"
    }
   ],
   "source": [
    "# find correlation between num_comments and num_points\n",
    "correlation = ask_15.corr()['num_comments']['num_points']\n",
    "correlation"
   ]
  },
  {
   "cell_type": "code",
   "execution_count": 16,
   "metadata": {
    "scrolled": true
   },
   "outputs": [
    {
     "data": {
      "image/png": "[encoded data removed]",
      "text/plain": [
       "<Figure size 720x216 with 1 Axes>"
      ]
     },
     "metadata": {
      "needs_background": "light"
     },
     "output_type": "display_data"
    }
   ],
   "source": [
    "# visualize the correlation on scatter plot\n",
    "import numpy as np\n",
    "ask_15.plot.scatter(x='num_comments', y='num_points', figsize=(10,3))\n",
    "plt.xticks(np.arange(0,1000,100))\n",
    "plt.show()"
   ]
  },
  {
   "cell_type": "code",
   "execution_count": 17,
   "metadata": {},
   "outputs": [
    {
     "data": {
      "image/png": "[encoded data removed]",
      "text/plain": [
       "<Figure size 720x216 with 1 Axes>"
      ]
     },
     "metadata": {
      "needs_background": "light"
     },
     "output_type": "display_data"
    }
   ],
   "source": [
    "# remove the two posts with significant high number of points and comments\n",
    "ask_15.plot.scatter(x='num_comments', y='num_points', figsize=(10,3))\n",
    "plt.xlim(0,300)\n",
    "plt.ylim(0,300)\n",
    "plt.show()"
   ]
  },
  {
   "cell_type": "markdown",
   "metadata": {},
   "source": [
    "num_points and num_comments has correlation of approximately 0.93. In general, a post with higher comments tend to have higher points. One thing to notice is two post with more than 900 comments, it is probably the factors make this hour standout from the others.<br>"
   ]
  },
  {
   "cell_type": "markdown",
   "metadata": {},
   "source": [
    "### What if removing extremely high number of comments posts?"
   ]
  },
  {
   "cell_type": "code",
   "execution_count": 18,
   "metadata": {
    "scrolled": true
   },
   "outputs": [
    {
     "name": "stdout",
     "output_type": "stream",
     "text": [
      "Total number of ask posts : 1744\n",
      "Total number of ask posts more than 100 comments:  41\n"
     ]
    }
   ],
   "source": [
    "# check number of posts having more than 100 comments in ask posts\n",
    "print('Total number of ask posts :', ask.shape[0])\n",
    "print('Total number of ask posts more than 100 comments: ',ask[ask['num_comments']>100].shape[0])"
   ]
  },
  {
   "cell_type": "markdown",
   "metadata": {},
   "source": [
    "Only 41 ask posts having more than 100 comments, we will filter these posts out to see if the pattern at 15 hour is still maintained."
   ]
  },
  {
   "cell_type": "code",
   "execution_count": 19,
   "metadata": {},
   "outputs": [],
   "source": [
    "ask_100_less = ask[ask['num_comments']<=100]"
   ]
  },
  {
   "cell_type": "code",
   "execution_count": 20,
   "metadata": {
    "scrolled": true
   },
   "outputs": [],
   "source": [
    "# call functions to filter posts by hour\n",
    "ask_100_less_by_hour = posts_by_hour(ask_100_less)"
   ]
  },
  {
   "cell_type": "code",
   "execution_count": 21,
   "metadata": {
    "scrolled": false
   },
   "outputs": [
    {
     "data": {
      "image/png": "[encoded data removed]",
      "text/plain": [
       "<Figure size 720x360 with 1 Axes>"
      ]
     },
     "metadata": {
      "needs_background": "light"
     },
     "output_type": "display_data"
    },
    {
     "data": {
      "image/png": "[encoded data removed]",
      "text/plain": [
       "<Figure size 720x360 with 1 Axes>"
      ]
     },
     "metadata": {
      "needs_background": "light"
     },
     "output_type": "display_data"
    }
   ],
   "source": [
    "import matplotlib.pyplot as plt\n",
    "ax1 = ask_100_less_by_hour.plot.bar(\n",
    "    x = 'created_hour',\n",
    "    y = 'total_comments', legend = False, figsize = (10,5),\n",
    "    title = 'Total Comments of Ask Posts having less than 100 comments')\n",
    "ax2 = ask_100_less_by_hour.plot.bar(\n",
    "    x = 'created_hour',\n",
    "    y = 'total_posts', color='gray', legend = False, figsize = (10,5),\n",
    "    title = 'Total Ask Posts having less than 100 comments')\n",
    "ax3 = ask_100_less_by_hour.plot.line(x='created_hour', y = 'average_comments',\n",
    "                            ax = ax2, color = 'red')\n",
    "\n",
    "plt.show()"
   ]
  },
  {
   "cell_type": "markdown",
   "metadata": {},
   "source": [
    "After removing posts with more than 100 comments, we still see the pattern repeated in the total numbers of comments. However, on average, posts at 10 receiving more comments. Timing clearly showed the difference in the number of comments, but it is not the only contributing factor. As we saw with the correlation with number of points. A post with more points tends to have more comments or vice versa."
   ]
  },
  {
   "cell_type": "markdown",
   "metadata": {},
   "source": [
    "# Conclusion\n",
    "The goal of this project is to find out where ask posts or show posts are getting more attention from Hacker News community. We also want to know whether a post created at a specific time is likely to get more comments.<br>\n",
    "\n",
    "On average, ask posts have higher average number of comments than show posts. While ask post type has 14 comments on average, show post type has only 10. We decided to move further with Ask Posts.<br>\n",
    "\n",
    "Then, we found out that a post created at 3PM getting having average of  at least double number of comments comparing to other timeframes. <br>\n",
    "\n",
    "When we dig deeper by filter out posts with more than 100 comments, the the pattern we found for posts at 3PM is still remained when consider the total number of comments. However, on average, posts at 10 took over the highest number.<br>\n",
    "\n",
    "Last but not least, we saw a strong positive relationship between number of points and number of comments. It means that timing is not only the contributing factor, but may also depend on the type of questions."
   ]
  }
 ],
 "metadata": {
  "kernelspec": {
   "display_name": "Python 3",
   "language": "python",
   "name": "python3"
  },
  "language_info": {
   "codemirror_mode": {
    "name": "ipython",
    "version": 3
   },
   "file_extension": ".py",
   "mimetype": "text/x-python",
   "name": "python",
   "nbconvert_exporter": "python",
   "pygments_lexer": "ipython3",
   "version": "3.7.6"
  }
 },
 "nbformat": 4,
 "nbformat_minor": 4
}
